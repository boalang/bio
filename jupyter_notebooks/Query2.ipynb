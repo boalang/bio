{
 "cells": [
  {
   "cell_type": "markdown",
   "metadata": {},
   "source": [
    "## Call Boa<sub>g</sub> script form Python"
   ]
  },
  {
   "cell_type": "markdown",
   "metadata": {},
   "source": [
    "### How has the average number of exons per gene in a species clade changed for genomes deposited before and after 2016?"
   ]
  },
  {
   "cell_type": "code",
   "execution_count": 12,
   "metadata": {
    "collapsed": true,
    "scrolled": true
   },
   "outputs": [],
   "source": [
    "import subprocess\n",
    "import os\n",
    "\n",
    "\n",
    "def run_boa(boa_script, output_directory):\n",
    "    with open(\"test.boa\", \"w\") as boa_file:\n",
    "        boa_file.write(boa_script)\n",
    "    bashCommand = \"bash runBoaG.sh test.boa dataset/ \" + output_directory\n",
    "    process = subprocess.Popen(bashCommand.split(), stdout=subprocess.PIPE)\n",
    "    output, error = process.communicate()\n",
    "\n",
    "    if (len(output) < 400):\n",
    "        print(\"error in compile step, please see the console\")\n",
    "    else:\n",
    "        print (\"Output location \" + output_directory + \"/part-r-00000 \\n\")\n",
    "\n",
    "        bashCommand=\"head -10 \" + output_directory +\"/part-r-00000\"\n",
    "        process = subprocess.Popen(bashCommand.split(), stdout=subprocess.PIPE)\n",
    "        output, error = process.communicate()\n",
    "        \n",
    "        # print the output\n",
    "        out=str(output).split(\"\\\\n\")\n",
    "        out=out[2:len(out)-1]\n",
    "        for line in out:\n",
    "            print(line)"
   ]
  },
  {
   "cell_type": "markdown",
   "metadata": {},
   "source": [
    "#### Submit Boa<sub>g</sub> script as a boa_script varible"
   ]
  },
  {
   "cell_type": "code",
   "execution_count": 13,
   "metadata": {},
   "outputs": [
    {
     "name": "stdout",
     "output_type": "stream",
     "text": [
      "Output location boa_output/part-r-00000 \n",
      "\n",
      "exonCounts[GCF_000002515.2][28985] = 5547\n",
      "exonCounts[GCF_000002525.2][4952] = 8537\n",
      "exonCounts[GCF_000002545.3][284593] = 5629\n",
      "exonCounts[GCF_000002655.1][330879] = 28488\n",
      "exonCounts[GCF_000002715.2][344612] = 28194\n",
      "exonCounts[GCF_000002855.3][5061] = 36537\n",
      "exonCounts[GCF_000002945.1][4896] = 12264\n",
      "exonCounts[GCF_000003125.1][441959] = 44642\n"
     ]
    }
   ],
   "source": [
    "boa_script = \"\"\"\n",
    "g: Genome = input;\n",
    "geneCounts: output sum[string][string] of int;\n",
    "exonCounts: output sum[string][string] of int;\n",
    "adata := getAssembler(g.refseq);\n",
    "asYear :=yearof(adata.assembly_date);\n",
    "if(asYear < 2016){\n",
    "        foreach(i:int; def(g.sequence[i])){\n",
    "          fdata := getFeature(g.refseq, g.sequence[i].accession);\n",
    "          foreach(j:int; def(fdata.feature[j])){\n",
    "                  if (match(\"gene\",fdata.feature[j].ftype))\n",
    "                        geneCounts [g.refseq][g.taxid]<< 1;  \n",
    "                  if (match(\"exon\",fdata.feature[j].ftype))\n",
    "                        exonCounts [g.refseq][g.taxid]<< 1;\n",
    "          }\n",
    "        }  \n",
    "}       \n",
    "\n",
    "\"\"\"\n",
    "\n",
    "output_location= \"boa_output\"\n",
    "\n",
    "run_boa(boa_script, output_location)\n"
   ]
  },
  {
   "cell_type": "markdown",
   "metadata": {},
   "source": [
    "### Show 20 lines of Boa<sub>g</sub> output"
   ]
  },
  {
   "cell_type": "code",
   "execution_count": 14,
   "metadata": {},
   "outputs": [
    {
     "name": "stdout",
     "output_type": "stream",
     "text": [
      "exonCounts[GCF_000001985.1][441960] = 34417\n",
      "exonCounts[GCF_000002495.2][242507] = 36522\n",
      "exonCounts[GCF_000002515.2][28985] = 5547\n",
      "exonCounts[GCF_000002525.2][4952] = 8537\n",
      "exonCounts[GCF_000002545.3][284593] = 5629\n",
      "exonCounts[GCF_000002655.1][330879] = 28488\n",
      "exonCounts[GCF_000002715.2][344612] = 28194\n",
      "exonCounts[GCF_000002855.3][5061] = 36537\n",
      "exonCounts[GCF_000002945.1][4896] = 12264\n",
      "exonCounts[GCF_000003125.1][441959] = 44642\n",
      "exonCounts[GCF_000003515.1][336963] = 24143\n",
      "exonCounts[GCF_000003835.1][306902] = 6168\n",
      "exonCounts[GCF_000003855.2][559298] = 32155\n",
      "exonCounts[GCF_000004155.1][653667] = 11468\n",
      "exonCounts[GCF_000006275.2][332952] = 38122\n",
      "exonCounts[GCF_000006335.3][294747] = 6475\n",
      "exonCounts[GCF_000006445.2][4959] = 7026\n",
      "exonCounts[GCF_000026365.1][4956] = 5543\n",
      "exonCounts[GCF_000026945.1][573826] = 6351\n",
      "exonCounts[GCF_000027005.1][644223] = 5618\n",
      "\n"
     ]
    }
   ],
   "source": [
    "# read more lines or the whole output file\n",
    "bashCommand=\"head -20 \" + output_location +\"/part-r-00000\"\n",
    "\n",
    "list = os.popen(bashCommand).read()\n",
    "print(list)"
   ]
  },
  {
   "cell_type": "markdown",
   "metadata": {},
   "source": [
    "## Post-processing with python"
   ]
  },
  {
   "cell_type": "markdown",
   "metadata": {},
   "source": [
    "*  So far we used Boa<sub>g</sub> to run the most time consuming part on top of Hadoop or in a single computer, the rest of the post processing we will use Python to generate the final results, i.e, mean and standard deviation."
   ]
  },
  {
   "cell_type": "markdown",
   "metadata": {},
   "source": [
    "* The Python code is in the current directory in  a file named exon_gene.py ."
   ]
  },
  {
   "cell_type": "code",
   "execution_count": 18,
   "metadata": {},
   "outputs": [
    {
     "name": "stdout",
     "output_type": "stream",
     "text": [
      "{}\n",
      "#############################################\n",
      "tax id: {4751: 'Fungi'}\n",
      "(50, 5)\n",
      "               taxid          gene           exon  exonpergene\n",
      "count      50.000000     50.000000      50.000000    50.000000\n",
      "mean   363313.460000   9360.460000   28536.200000     2.679020\n",
      "std    200039.343669   4193.473195   22919.481263     1.570024\n",
      "min      4896.000000   2010.000000    2067.000000     0.989000\n",
      "25%    283880.500000   6084.750000    6382.000000     1.061000\n",
      "50%    334957.500000   8858.500000   31687.000000     2.764500\n",
      "75%    475020.750000  12149.500000   39360.250000     3.389000\n",
      "max    876142.000000  21354.000000  100216.000000     6.620000\n",
      "#############################################\n",
      "tax id: {4890: 'Ascomycota'}\n",
      "(42, 5)\n",
      "               taxid          gene          exon  exonpergene\n",
      "count      42.000000     42.000000     42.000000    42.000000\n",
      "mean   352095.000000   9387.380952  24528.880952     2.300310\n",
      "std    196130.289619   3817.406149  17886.039010     1.039969\n",
      "min      4896.000000   5040.000000   5543.000000     0.989000\n",
      "25%    284647.500000   6084.750000   6382.000000     1.061000\n",
      "50%    334957.500000   9390.500000  28341.000000     2.692500\n",
      "75%    441959.750000  11589.500000  35162.250000     3.134500\n",
      "max    665079.000000  21354.000000  81522.000000     3.860000\n",
      "\n"
     ]
    }
   ],
   "source": [
    "# read more lines or the whole output file\n",
    "bashCommand=\"python exon_gene.py \" + output_location +\"/part-r-00000\"\n",
    "\n",
    "list = os.popen(bashCommand).read()\n",
    "print(list)"
   ]
  }
 ],
 "metadata": {
  "kernelspec": {
   "display_name": "Python 3",
   "language": "python",
   "name": "python3"
  },
  "language_info": {
   "codemirror_mode": {
    "name": "ipython",
    "version": 3
   },
   "file_extension": ".py",
   "mimetype": "text/x-python",
   "name": "python",
   "nbconvert_exporter": "python",
   "pygments_lexer": "ipython3",
   "version": "3.6.1"
  }
 },
 "nbformat": 4,
 "nbformat_minor": 2
}
