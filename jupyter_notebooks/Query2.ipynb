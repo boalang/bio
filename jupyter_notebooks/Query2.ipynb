{
 "cells": [
  {
   "cell_type": "markdown",
   "metadata": {},
   "source": [
    "## Call Boa<sub>g</sub> script form Python"
   ]
  },
  {
   "cell_type": "code",
   "execution_count": 4,
   "metadata": {
    "collapsed": true,
    "scrolled": true
   },
   "outputs": [],
   "source": [
    "import subprocess\n",
    "import os\n",
    "\n",
    "\n",
    "def run_boa(boa_script, output_directory):\n",
    "    with open(\"test.boa\", \"w\") as boa_file:\n",
    "        boa_file.write(boa_script)\n",
    "    bashCommand = \"bash runBoaG.sh test.boa dataset/ \" + output_directory\n",
    "    process = subprocess.Popen(bashCommand.split(), stdout=subprocess.PIPE)\n",
    "    output, error = process.communicate()\n",
    "\n",
    "    if (len(output) < 400):\n",
    "        print(\"error in compile step, please see the console\")\n",
    "    else:\n",
    "        print (\"Output location \" + output_directory + \"/part-r-00000 \\n\")\n",
    "\n",
    "        bashCommand=\"head -10 \" + output_directory +\"/part-r-00000\"\n",
    "        process = subprocess.Popen(bashCommand.split(), stdout=subprocess.PIPE)\n",
    "        output, error = process.communicate()\n",
    "        \n",
    "        # print the output\n",
    "        out=str(output).split(\"\\\\n\")\n",
    "        out=out[2:len(out)-1]\n",
    "        for line in out:\n",
    "            print(line)"
   ]
  },
  {
   "cell_type": "markdown",
   "metadata": {},
   "source": [
    "#### Submit Boa<sub>g</sub> script as a boa_script varible"
   ]
  },
  {
   "cell_type": "code",
   "execution_count": 2,
   "metadata": {},
   "outputs": [
    {
     "name": "stdout",
     "output_type": "stream",
     "text": [
      "Output location boa_output/part-r-00000 \n",
      "\n"
     ]
    }
   ],
   "source": [
    "boa_script = \"\"\"\n",
    "g: Genome=input;\n",
    "MaxGenome: output maximum(1) of string weight int;\n",
    "MinGenome: output minimum(1) of string weight int;\n",
    "\n",
    "adata:= getAssembler(g.refseq);\n",
    "MaxGenome << g.refseq weight adata.total_length;\n",
    "if(adata.total_length>0)\n",
    "  MinGenome << g.refseq weight adata.total_length;\n",
    "\n",
    "\"\"\"\n",
    "\n",
    "output_location= \"boa_output\"\n",
    "\n",
    "run_boa(boa_script, output_location)\n"
   ]
  },
  {
   "cell_type": "markdown",
   "metadata": {},
   "source": [
    "### Show 20 lines of Boa<sub>g</sub> output"
   ]
  },
  {
   "cell_type": "code",
   "execution_count": 3,
   "metadata": {},
   "outputs": [
    {
     "name": "stdout",
     "output_type": "stream",
     "text": [
      "MaxGenome[] = GCF_000149925.1, 88724376.0\n",
      "MinGenome[] = GCF_000146465.1, 2216898.0\n",
      "\n"
     ]
    }
   ],
   "source": [
    "# read more lines or the whole output file\n",
    "bashCommand=\"head -20 \" + output_location +\"/part-r-00000\"\n",
    "\n",
    "list = os.popen(bashCommand).read()\n",
    "print(list)"
   ]
  },
  {
   "cell_type": "code",
   "execution_count": null,
   "metadata": {
    "collapsed": true
   },
   "outputs": [],
   "source": []
  }
 ],
 "metadata": {
  "kernelspec": {
   "display_name": "Python 3",
   "language": "python",
   "name": "python3"
  },
  "language_info": {
   "codemirror_mode": {
    "name": "ipython",
    "version": 3
   },
   "file_extension": ".py",
   "mimetype": "text/x-python",
   "name": "python",
   "nbconvert_exporter": "python",
   "pygments_lexer": "ipython3",
   "version": "3.6.1"
  }
 },
 "nbformat": 4,
 "nbformat_minor": 2
}
