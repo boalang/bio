{
 "cells": [
  {
   "cell_type": "markdown",
   "metadata": {},
   "source": [
    "## Call Boa<sub>g</sub> script form Python"
   ]
  },
  {
   "cell_type": "markdown",
   "metadata": {},
   "source": [
    "### How has the popularity of bacterial genomeassembly programs changed?"
   ]
  },
  {
   "cell_type": "code",
   "execution_count": 1,
   "metadata": {
    "collapsed": true,
    "scrolled": true
   },
   "outputs": [],
   "source": [
    "import subprocess\n",
    "import os\n",
    "\n",
    "\n",
    "def run_boa(boa_script, output_directory):\n",
    "    with open(\"test.boa\", \"w\") as boa_file:\n",
    "        boa_file.write(boa_script)\n",
    "    bashCommand = \"bash runBoaG.sh test.boa dataset/ \" + output_directory\n",
    "    process = subprocess.Popen(bashCommand.split(), stdout=subprocess.PIPE)\n",
    "    output, error = process.communicate()\n",
    "\n",
    "    if (len(output) < 400):\n",
    "        print(\"error in compile step, please see the console\")\n",
    "    else:\n",
    "        print (\"Output location \" + output_directory + \"/part-r-00000 \\n\")\n",
    "\n",
    "        bashCommand=\"head -10 \" + output_directory +\"/part-r-00000\"\n",
    "        process = subprocess.Popen(bashCommand.split(), stdout=subprocess.PIPE)\n",
    "        output, error = process.communicate()\n",
    "        \n",
    "        # print the output\n",
    "        out=str(output).split(\"\\\\n\")\n",
    "        out=out[2:len(out)-1]\n",
    "        for line in out:\n",
    "            print(line)"
   ]
  },
  {
   "cell_type": "markdown",
   "metadata": {},
   "source": [
    "#### Submit Boa<sub>g</sub> script as a boa_script varible"
   ]
  },
  {
   "cell_type": "code",
   "execution_count": 2,
   "metadata": {},
   "outputs": [
    {
     "name": "stdout",
     "output_type": "stream",
     "text": [
      "Output location boa_output/part-r-00000 \n",
      "\n",
      "counts[2004][28985][N/A] = 1\n",
      "counts[2004][4952][N/A] = 1\n",
      "counts[2005][214684][N/A] = 1\n",
      "counts[2005][330879][N/A] = 1\n",
      "counts[2006][306901][N/A] = 1\n",
      "counts[2006][331117][N/A] = 1\n",
      "counts[2006][341663][N/A] = 1\n",
      "counts[2006][344612][N/A] = 1\n"
     ]
    }
   ],
   "source": [
    "boa_script = \"\"\"\n",
    "g: Genome = input;\n",
    "counts: output sum [int][string][string] of int;\n",
    "asm := getAssembler(g.refseq);\n",
    "asYear :=yearof(asm.assembly_date);\n",
    "foreach(k:int; def(asm.assembler[k]))\n",
    "  counts [asYear][g.taxid][asm.assembler[k].name]<<1;\n",
    "\n",
    "\"\"\"\n",
    "\n",
    "output_location= \"boa_output\"\n",
    "\n",
    "run_boa(boa_script, output_location)\n"
   ]
  },
  {
   "cell_type": "markdown",
   "metadata": {},
   "source": [
    "### Show 20 lines of Boa<sub>g</sub> output"
   ]
  },
  {
   "cell_type": "code",
   "execution_count": 6,
   "metadata": {},
   "outputs": [
    {
     "name": "stdout",
     "output_type": "stream",
     "text": [
      "counts[2002][284813][N/A] = 1\n",
      "counts[2004][283643][N/A] = 1\n",
      "counts[2004][28985][N/A] = 1\n",
      "counts[2004][4952][N/A] = 1\n",
      "counts[2005][214684][N/A] = 1\n",
      "counts[2005][330879][N/A] = 1\n",
      "counts[2006][306901][N/A] = 1\n",
      "counts[2006][331117][N/A] = 1\n",
      "counts[2006][341663][N/A] = 1\n",
      "counts[2006][344612][N/A] = 1\n",
      "counts[2007][294746][N/A] = 1\n",
      "counts[2007][321614][N/A] = 1\n",
      "counts[2007][339724][N/A] = 1\n",
      "counts[2007][379508][N/A] = 1\n",
      "counts[2007][426418][N/A] = 1\n",
      "counts[2007][436907][N/A] = 1\n",
      "counts[2007][4896][N/A] = 1\n",
      "counts[2007][5061][N/A] = 1\n",
      "counts[2008][284593][N/A] = 1\n",
      "counts[2008][418459][N/A] = 1\n",
      "\n"
     ]
    }
   ],
   "source": [
    "# read more lines or the whole output file\n",
    "bashCommand=\"head -20 \" + output_location +\"/part-r-00000\"\n",
    "\n",
    "list = os.popen(bashCommand).read()\n",
    "print(list)"
   ]
  },
  {
   "cell_type": "markdown",
   "metadata": {
    "collapsed": true
   },
   "source": [
    "#### NB. Output of this step in a fungi-only subset of data is null. Users can download the full dataset and put it in the dataset folder in the current directory and reproduce the result. The running time on the full dataset on a single machine is about one minute. Full dataset can be obtained from the [Google Drive Link](https://drive.google.com/drive/u/1/folders/1u-APb-clMbPNpHXhalthPWEDsNT-OtnX)"
   ]
  },
  {
   "cell_type": "code",
   "execution_count": null,
   "metadata": {
    "collapsed": true
   },
   "outputs": [],
   "source": []
  }
 ],
 "metadata": {
  "kernelspec": {
   "display_name": "Python 3",
   "language": "python",
   "name": "python3"
  },
  "language_info": {
   "codemirror_mode": {
    "name": "ipython",
    "version": 3
   },
   "file_extension": ".py",
   "mimetype": "text/x-python",
   "name": "python",
   "nbconvert_exporter": "python",
   "pygments_lexer": "ipython3",
   "version": "3.6.1"
  }
 },
 "nbformat": 4,
 "nbformat_minor": 2
}
