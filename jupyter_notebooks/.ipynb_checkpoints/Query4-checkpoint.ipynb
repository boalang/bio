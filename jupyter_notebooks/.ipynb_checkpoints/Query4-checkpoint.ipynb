{
 "cells": [
  {
   "cell_type": "markdown",
   "metadata": {},
   "source": [
    "## Call Boa<sub>g</sub> script form Python"
   ]
  },
  {
   "cell_type": "code",
   "execution_count": 2,
   "metadata": {
    "collapsed": true,
    "scrolled": true
   },
   "outputs": [],
   "source": [
    "import subprocess\n",
    "import os\n",
    "\n",
    "\n",
    "def run_boa(boa_script, output_directory):\n",
    "    with open(\"test.boa\", \"w\") as boa_file:\n",
    "        boa_file.write(boa_script)\n",
    "    bashCommand = \"bash runBoaG.sh test.boa dataset/ \" + output_directory\n",
    "    process = subprocess.Popen(bashCommand.split(), stdout=subprocess.PIPE)\n",
    "    output, error = process.communicate()\n",
    "\n",
    "    if (len(output) < 400):\n",
    "        print(\"error in compile step, please see the console\")\n",
    "    else:\n",
    "        print (\"Output location \" + output_directory + \"/part-r-00000 \\n\")\n",
    "\n",
    "        bashCommand=\"head -10 \" + output_directory +\"/part-r-00000\"\n",
    "        process = subprocess.Popen(bashCommand.split(), stdout=subprocess.PIPE)\n",
    "        output, error = process.communicate()\n",
    "        \n",
    "        # print the output\n",
    "        out=str(output).split(\"\\\\n\")\n",
    "        out=out[2:len(out)-1]\n",
    "        for line in out:\n",
    "            print(line)"
   ]
  },
  {
   "cell_type": "markdown",
   "metadata": {},
   "source": [
    "#### Submit Boa<sub>g</sub> script as a boa_script varible"
   ]
  },
  {
   "cell_type": "code",
   "execution_count": 5,
   "metadata": {},
   "outputs": [
    {
     "name": "stdout",
     "output_type": "stream",
     "text": [
      "Output location boa_output/part-r-00000 \n",
      "\n",
      "counts[GCF_000002515.2][2004][28985][10729447][0][0][0][0][0] = 1\n",
      "counts[GCF_000002525.2][2004][4952][20550897][1144][0][0][19][2069334] = 1\n",
      "counts[GCF_000002545.3][2008][284593][12338308][300][0][0][17][1100349] = 1\n",
      "counts[GCF_000002655.1][2005][330879][29384958][575000][0][0][19][2460113] = 1\n",
      "counts[GCF_000002715.2][2006][344612][27859441][8800][143][2493640][231][749511] = 1\n",
      "counts[GCF_000002855.3][2007][5061][34006671][44968][20][2525243][470][114002] = 1\n",
      "counts[GCF_000002945.1][2007][4896][12591251][400][0][0][8][2923134] = 1\n",
      "counts[GCF_000003125.1][2008][441959][35685443][127013][820][4363329][960][897397] = 1\n"
     ]
    }
   ],
   "source": [
    "boa_script = \"\"\"\n",
    "g: Genome = input;\n",
    "counts: output collection [string][int][string][int][int][int][int][int][int] of int;\n",
    "\n",
    "adata := getAssembler(g.refseq); # This line loads the assembly information for the given refseq id\n",
    "asYear :=yearof(adata.assembly_date); # this line returns the year of assembly\n",
    "\n",
    "counts [g.refseq][asYear][g.taxid][adata.total_length][adata.total_gap_length][adata.scaffold_count]\n",
    "       [adata.scaffold_N50][adata.contig_count][adata.contig_N50] <<1;\n",
    "\n",
    "\"\"\"\n",
    "\n",
    "output_location= \"boa_output\"\n",
    "\n",
    "run_boa(boa_script, output_location)\n"
   ]
  },
  {
   "cell_type": "markdown",
   "metadata": {},
   "source": [
    "### Show 20 lines of Boa<sub>g</sub> output"
   ]
  },
  {
   "cell_type": "code",
   "execution_count": 6,
   "metadata": {},
   "outputs": [
    {
     "name": "stdout",
     "output_type": "stream",
     "text": [
      "counts[GCF_000001985.1][2008][441960][28643865][176385][452][3339384][589][541514] = 1\n",
      "counts[GCF_000002495.2][2011][242507][40979121][29800][53][6606598][216][823590] = 1\n",
      "counts[GCF_000002515.2][2004][28985][10729447][0][0][0][0][0] = 1\n",
      "counts[GCF_000002525.2][2004][4952][20550897][1144][0][0][19][2069334] = 1\n",
      "counts[GCF_000002545.3][2008][284593][12338308][300][0][0][17][1100349] = 1\n",
      "counts[GCF_000002655.1][2005][330879][29384958][575000][0][0][19][2460113] = 1\n",
      "counts[GCF_000002715.2][2006][344612][27859441][8800][143][2493640][231][749511] = 1\n",
      "counts[GCF_000002855.3][2007][5061][34006671][44968][20][2525243][470][114002] = 1\n",
      "counts[GCF_000002945.1][2007][4896][12591251][400][0][0][8][2923134] = 1\n",
      "counts[GCF_000003125.1][2008][441959][35685443][127013][820][4363329][960][897397] = 1\n",
      "counts[GCF_000003515.1][2009][336963][22349738][181667][45][5232914][583][80843] = 1\n",
      "counts[GCF_000003835.1][2009][306902][12114892][34973][9][1874050][88][266609] = 1\n",
      "counts[GCF_000003855.2][2009][559298][75404732][1010961][103][2435518][1794][126005] = 1\n",
      "counts[GCF_000004155.1][2013][653667][11554764][30890][30][1386795][198][290103] = 1\n",
      "counts[GCF_000006275.2][2009][332952][36892344][62700][331][2388123][958][103582] = 1\n",
      "counts[GCF_000006335.3][2009][294747][14630139][54540][24][1654078][128][221103] = 1\n",
      "counts[GCF_000006445.2][2008][4959][12181948][725][0][0][15][993818] = 1\n",
      "counts[GCF_000026365.1][2009][4956][9764635][1269][0][0][9][1496342] = 1\n",
      "counts[GCF_000026945.1][2009][573826][14618422][0][0][0][0][0] = 1\n",
      "counts[GCF_000027005.1][2009][644223][9216378][527][0][0][15][2394163] = 1\n",
      "\n"
     ]
    }
   ],
   "source": [
    "# read more lines or the whole output file\n",
    "bashCommand=\"head -20 \" + output_location +\"/part-r-00000\"\n",
    "\n",
    "list = os.popen(bashCommand).read()\n",
    "print(list)"
   ]
  },
  {
   "cell_type": "code",
   "execution_count": null,
   "metadata": {
    "collapsed": true
   },
   "outputs": [],
   "source": []
  }
 ],
 "metadata": {
  "kernelspec": {
   "display_name": "Python 3",
   "language": "python",
   "name": "python3"
  },
  "language_info": {
   "codemirror_mode": {
    "name": "ipython",
    "version": 3
   },
   "file_extension": ".py",
   "mimetype": "text/x-python",
   "name": "python",
   "nbconvert_exporter": "python",
   "pygments_lexer": "ipython3",
   "version": "3.6.1"
  }
 },
 "nbformat": 4,
 "nbformat_minor": 2
}
