{
 "cells": [
  {
   "cell_type": "markdown",
   "metadata": {},
   "source": [
    "## Call Boa script form Python"
   ]
  },
  {
   "cell_type": "code",
   "execution_count": 5,
   "metadata": {
    "collapsed": true,
    "scrolled": true
   },
   "outputs": [],
   "source": [
    "import subprocess\n",
    "import os\n",
    "\n",
    "\n",
    "def run_boa(boa_script, output_directory):\n",
    "    with open(\"test.boa\", \"w\") as boa_file:\n",
    "        boa_file.write(boa_script)\n",
    "    bashCommand = \"bash runBoaG.sh test.boa dataset/ \" + output_directory\n",
    "    process = subprocess.Popen(bashCommand.split(), stdout=subprocess.PIPE)\n",
    "    output, error = process.communicate()\n",
    "\n",
    "    if (len(output) < 400):\n",
    "        print(\"error in compile step, please see the console\")\n",
    "    else:\n",
    "        print (\"Output location \" + output_directory + \"/part-r-00000 \\n\")\n",
    "\n",
    "        bashCommand=\"head -10 \" + output_directory +\"/part-r-00000\"\n",
    "        process = subprocess.Popen(bashCommand.split(), stdout=subprocess.PIPE)\n",
    "        output, error = process.communicate()\n",
    "        \n",
    "        # print the output\n",
    "        out=str(output).split(\"\\\\n\")\n",
    "        out=out[2:len(out)-1]\n",
    "        for line in out:\n",
    "            print(line)"
   ]
  },
  {
   "cell_type": "code",
   "execution_count": 6,
   "metadata": {},
   "outputs": [
    {
     "name": "stdout",
     "output_type": "stream",
     "text": [
      "Output location boa_output/part-r-00000 \n",
      "\n",
      "AsmStats[N/A] = 43\n",
      "AsmStats[Newbler] = 2\n",
      "AsmStats[Unknown] = 1\n"
     ]
    }
   ],
   "source": [
    "boa_script = \"\"\"\n",
    "g: Genome = input;\n",
    "AsmStats: output sum [string]  of int;\n",
    " \n",
    "# We need to load Assemblers info from disk\n",
    "adata := getAssembler(g.refseq);\n",
    " \n",
    "foreach(k:int; def(adata.assembler[k])){\n",
    "     AsmStats [adata.assembler[k].name] <<1;  \n",
    "}\n",
    "\n",
    "\"\"\"\n",
    "\n",
    "output_location= \"boa_output\"\n",
    "\n",
    "run_boa(boa_script, output_location)\n"
   ]
  },
  {
   "cell_type": "code",
   "execution_count": 7,
   "metadata": {},
   "outputs": [
    {
     "name": "stdout",
     "output_type": "stream",
     "text": [
      "AsmStats[Arachne] = 3\n",
      "AsmStats[HGAP] = 1\n",
      "AsmStats[N/A] = 43\n",
      "AsmStats[Newbler] = 2\n",
      "AsmStats[Unknown] = 1\n",
      "\n"
     ]
    }
   ],
   "source": [
    "# read more lines or the whole output file\n",
    "bashCommand=\"head -20 \" + output_location +\"/part-r-00000\"\n",
    "\n",
    "list = os.popen(bashCommand).read()\n",
    "print(list)"
   ]
  }
 ],
 "metadata": {
  "kernelspec": {
   "display_name": "Python 3",
   "language": "python",
   "name": "python3"
  },
  "language_info": {
   "codemirror_mode": {
    "name": "ipython",
    "version": 3
   },
   "file_extension": ".py",
   "mimetype": "text/x-python",
   "name": "python",
   "nbconvert_exporter": "python",
   "pygments_lexer": "ipython3",
   "version": "3.6.1"
  }
 },
 "nbformat": 4,
 "nbformat_minor": 2
}
